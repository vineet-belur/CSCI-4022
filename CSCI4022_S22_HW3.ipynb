{
 "cells": [
  {
   "cell_type": "markdown",
   "metadata": {},
   "source": [
    "<a/ id='top'></a>\n",
    "\n",
    "# CSCI4022 Homework 3; K-Means\n",
    "\n",
    "## Due Friday, February 11 at 11:59 pm to Canvas and Gradescope\n",
    "\n",
    "#### Submit this file as a .ipynb with *all cells compiled and run* to the associated dropbox.\n",
    "\n",
    "***\n",
    "\n",
    "Your solutions to computational questions should include any specified Python code and results as well as written commentary on your conclusions.  Remember that you are encouraged to discuss the problems with your classmates, but **you must write all code and solutions on your own**.\n",
    "\n",
    "**NOTES**: \n",
    "\n",
    "- Any relevant data sets should be available on Canvas. To make life easier on the graders if they need to run your code, do not change the relative path names here. Instead, move the files around on your computer.\n",
    "- If you're not familiar with typesetting math directly into Markdown then by all means, do your work on paper first and then typeset it later.  Here is a [reference guide](https://math.meta.stackexchange.com/questions/5020/mathjax-basic-tutorial-and-quick-reference) linked on Canvas on writing math in Markdown. **All** of your written commentary, justifications and mathematical work should be in Markdown.  I also recommend the [wikibook](https://en.wikibooks.org/wiki/LaTeX) for LaTex.\n",
    "- Because you can technically evaluate notebook cells is a non-linear order, it's a good idea to do **Kernel $\\rightarrow$ Restart & Run All** as a check before submitting your solutions.  That way if we need to run your code you will know that it will work as expected. \n",
    "- It is **bad form** to make your reader interpret numerical output from your code.  If a question asks you to compute some value from the data you should show your code output **AND** write a summary of the results in Markdown directly below your code. \n",
    "- 45 points of this assignment are in problems.  The remaining 5 are for neatness, style, and overall exposition of both code and text.\n",
    "- This probably goes without saying, but... For any question that asks you to calculate something, you **must show all work and justify your answers to receive credit**. Sparse or nonexistent work will receive sparse or nonexistent credit. \n",
    "- There is *not a prescribed API* for these problems.  You may answer coding questions with whatever syntax or object typing you deem fit.  Your evaluation will primarily live in the clarity of how well you present your final results, so don't skip over any interpretations!  Your code should still be commented and readable to ensure you followed the given course algorithm.\n",
    "- There are two ways to quickly make a .pdf out of this notebook for Gradescope submission.  Either:\n",
    " - Use File -> Download as PDF via LaTeX.  This will require your system path find a working install of a TeX compiler\n",
    " - Easier: Use File ->  Print Preview, and then Right-Click -> Print using your default browser and \"Print to PDF\"\n",
    "\n",
    "\n",
    "\n",
    "---\n",
    "**Shortcuts:**  [Problem 1](#p1) | [Problem 2](#p2) | [Problem 3](#p3) |\n",
    "---\n"
   ]
  },
  {
   "cell_type": "code",
   "execution_count": 1,
   "metadata": {},
   "outputs": [],
   "source": [
    "import matplotlib.pyplot as plt\n",
    "import numpy as np\n",
    "import pandas as pd\n",
    "import math"
   ]
  },
  {
   "cell_type": "markdown",
   "metadata": {},
   "source": [
    "***\n",
    "<a/ id='p1'></a>\n",
    "[Back to top](#top)\n",
    "# Problem 1 (Theory: Distance Setup; 5 pts)\n",
    "\n",
    "In the later portion we're going to combine two distance measures by creating an average of them.  Is this valid?\n",
    "\n",
    "Prove the following:\n",
    "\n",
    "If $f(x,y)$ and $g(x,y)$ are both valid distance measures mapping objects $x,y$ from *some* space to $\\mathbb{R}^+$, prove that $h(x,y)=a\\cdot f(x,y) + b g(x,y)$ is also a valid distance measure for positive integers $a$ and $b$.\n"
   ]
  },
  {
   "cell_type": "markdown",
   "metadata": {},
   "source": [
    "We can prove a distance measure if it follows the following four axioms.\n",
    "\n",
    "1. No negative distances.\n",
    "2. Distances are only zero from a point to itself.\n",
    "3. Distance is symmetric. -> $f(x,y) = f(y,x)$\n",
    "4. Distances satisfy the triangle inequality -> $f(x,y) \\leq d(x,z) + d(y,z)$"
   ]
  },
  {
   "cell_type": "markdown",
   "metadata": {},
   "source": [
    "Given - f and g are valid distance measures and a and b are positive integers\n",
    "\n",
    "1. f(x,y) and g(x,y) are valid distance measures we know that their output will be non-negative, and a*b are given to be positive integers. As such, we know the distances have to be strictly positive.\n",
    "\n",
    "2. (x,y) and g(x,y) are valid distance measures, therefore the distances are given to be 0 from a point to itself. We also know that $0*a + 0*b = 0$.\n",
    "\n",
    "3. $a*f(x,y) + b*g(x,y) = a*f(y,x) + b*g(y,x)$ -> We know that $f(x,y) = f(y,x)$ and $g(x,y) = g(y,x)$ as both are valid distance measures. As such, $a*f(x,y) + b*g(x,y) = a*f(y,x) + b*g(y,x)$ as we can use substitute with our givens.\n",
    "\n",
    "4. $a*f(x,y) + b*g(x,y) \\leq a*(f(x,z) + f(y,z)) + b*(g(x,z) + g(y,z))$ = $f(x,y) + g(x,y) \\leq (f(x,z) + f(y,z)) + (g(x,z) + g(y,z))$. We know the following to be true by substitution."
   ]
  },
  {
   "cell_type": "markdown",
   "metadata": {},
   "source": [
    "***\n",
    "<a/ id='p2'></a>\n",
    "[Back to top](#top)\n",
    "# Problem 2 (K-Means and Initialization; 22 pts)\n",
    "\n",
    "In the next two problems we cluster the Pokémon dataset loaded below:"
   ]
  },
  {
   "cell_type": "code",
   "execution_count": 2,
   "metadata": {},
   "outputs": [
    {
     "name": "stdout",
     "output_type": "stream",
     "text": [
      "(432, 13)\n"
     ]
    },
    {
     "data": {
      "text/html": [
       "<div>\n",
       "<style scoped>\n",
       "    .dataframe tbody tr th:only-of-type {\n",
       "        vertical-align: middle;\n",
       "    }\n",
       "\n",
       "    .dataframe tbody tr th {\n",
       "        vertical-align: top;\n",
       "    }\n",
       "\n",
       "    .dataframe thead th {\n",
       "        text-align: right;\n",
       "    }\n",
       "</style>\n",
       "<table border=\"1\" class=\"dataframe\">\n",
       "  <thead>\n",
       "    <tr style=\"text-align: right;\">\n",
       "      <th></th>\n",
       "      <th>#</th>\n",
       "      <th>Name</th>\n",
       "      <th>Type 1</th>\n",
       "      <th>Type 2</th>\n",
       "      <th>Total</th>\n",
       "      <th>HP</th>\n",
       "      <th>Attack</th>\n",
       "      <th>Defense</th>\n",
       "      <th>Sp. Atk</th>\n",
       "      <th>Sp. Def</th>\n",
       "      <th>Speed</th>\n",
       "      <th>Generation</th>\n",
       "      <th>Legendary</th>\n",
       "    </tr>\n",
       "  </thead>\n",
       "  <tbody>\n",
       "    <tr>\n",
       "      <th>0</th>\n",
       "      <td>1</td>\n",
       "      <td>Bulbasaur</td>\n",
       "      <td>Grass</td>\n",
       "      <td>Poison</td>\n",
       "      <td>318</td>\n",
       "      <td>45</td>\n",
       "      <td>49</td>\n",
       "      <td>49</td>\n",
       "      <td>65</td>\n",
       "      <td>65</td>\n",
       "      <td>45</td>\n",
       "      <td>1</td>\n",
       "      <td>False</td>\n",
       "    </tr>\n",
       "    <tr>\n",
       "      <th>1</th>\n",
       "      <td>2</td>\n",
       "      <td>Ivysaur</td>\n",
       "      <td>Grass</td>\n",
       "      <td>Poison</td>\n",
       "      <td>405</td>\n",
       "      <td>60</td>\n",
       "      <td>62</td>\n",
       "      <td>63</td>\n",
       "      <td>80</td>\n",
       "      <td>80</td>\n",
       "      <td>60</td>\n",
       "      <td>1</td>\n",
       "      <td>False</td>\n",
       "    </tr>\n",
       "    <tr>\n",
       "      <th>2</th>\n",
       "      <td>3</td>\n",
       "      <td>Venusaur</td>\n",
       "      <td>Grass</td>\n",
       "      <td>Poison</td>\n",
       "      <td>525</td>\n",
       "      <td>80</td>\n",
       "      <td>82</td>\n",
       "      <td>83</td>\n",
       "      <td>100</td>\n",
       "      <td>100</td>\n",
       "      <td>80</td>\n",
       "      <td>1</td>\n",
       "      <td>False</td>\n",
       "    </tr>\n",
       "    <tr>\n",
       "      <th>3</th>\n",
       "      <td>3</td>\n",
       "      <td>VenusaurMega Venusaur</td>\n",
       "      <td>Grass</td>\n",
       "      <td>Poison</td>\n",
       "      <td>625</td>\n",
       "      <td>80</td>\n",
       "      <td>100</td>\n",
       "      <td>123</td>\n",
       "      <td>122</td>\n",
       "      <td>120</td>\n",
       "      <td>80</td>\n",
       "      <td>1</td>\n",
       "      <td>False</td>\n",
       "    </tr>\n",
       "    <tr>\n",
       "      <th>4</th>\n",
       "      <td>4</td>\n",
       "      <td>Charmander</td>\n",
       "      <td>Fire</td>\n",
       "      <td>NaN</td>\n",
       "      <td>309</td>\n",
       "      <td>39</td>\n",
       "      <td>52</td>\n",
       "      <td>43</td>\n",
       "      <td>60</td>\n",
       "      <td>50</td>\n",
       "      <td>65</td>\n",
       "      <td>1</td>\n",
       "      <td>False</td>\n",
       "    </tr>\n",
       "    <tr>\n",
       "      <th>...</th>\n",
       "      <td>...</td>\n",
       "      <td>...</td>\n",
       "      <td>...</td>\n",
       "      <td>...</td>\n",
       "      <td>...</td>\n",
       "      <td>...</td>\n",
       "      <td>...</td>\n",
       "      <td>...</td>\n",
       "      <td>...</td>\n",
       "      <td>...</td>\n",
       "      <td>...</td>\n",
       "      <td>...</td>\n",
       "      <td>...</td>\n",
       "    </tr>\n",
       "    <tr>\n",
       "      <th>95</th>\n",
       "      <td>88</td>\n",
       "      <td>Grimer</td>\n",
       "      <td>Poison</td>\n",
       "      <td>NaN</td>\n",
       "      <td>325</td>\n",
       "      <td>80</td>\n",
       "      <td>80</td>\n",
       "      <td>50</td>\n",
       "      <td>40</td>\n",
       "      <td>50</td>\n",
       "      <td>25</td>\n",
       "      <td>1</td>\n",
       "      <td>False</td>\n",
       "    </tr>\n",
       "    <tr>\n",
       "      <th>96</th>\n",
       "      <td>89</td>\n",
       "      <td>Muk</td>\n",
       "      <td>Poison</td>\n",
       "      <td>NaN</td>\n",
       "      <td>500</td>\n",
       "      <td>105</td>\n",
       "      <td>105</td>\n",
       "      <td>75</td>\n",
       "      <td>65</td>\n",
       "      <td>100</td>\n",
       "      <td>50</td>\n",
       "      <td>1</td>\n",
       "      <td>False</td>\n",
       "    </tr>\n",
       "    <tr>\n",
       "      <th>97</th>\n",
       "      <td>90</td>\n",
       "      <td>Shellder</td>\n",
       "      <td>Water</td>\n",
       "      <td>NaN</td>\n",
       "      <td>305</td>\n",
       "      <td>30</td>\n",
       "      <td>65</td>\n",
       "      <td>100</td>\n",
       "      <td>45</td>\n",
       "      <td>25</td>\n",
       "      <td>40</td>\n",
       "      <td>1</td>\n",
       "      <td>False</td>\n",
       "    </tr>\n",
       "    <tr>\n",
       "      <th>98</th>\n",
       "      <td>91</td>\n",
       "      <td>Cloyster</td>\n",
       "      <td>Water</td>\n",
       "      <td>Ice</td>\n",
       "      <td>525</td>\n",
       "      <td>50</td>\n",
       "      <td>95</td>\n",
       "      <td>180</td>\n",
       "      <td>85</td>\n",
       "      <td>45</td>\n",
       "      <td>70</td>\n",
       "      <td>1</td>\n",
       "      <td>False</td>\n",
       "    </tr>\n",
       "    <tr>\n",
       "      <th>99</th>\n",
       "      <td>92</td>\n",
       "      <td>Gastly</td>\n",
       "      <td>Ghost</td>\n",
       "      <td>Poison</td>\n",
       "      <td>310</td>\n",
       "      <td>30</td>\n",
       "      <td>35</td>\n",
       "      <td>30</td>\n",
       "      <td>100</td>\n",
       "      <td>35</td>\n",
       "      <td>80</td>\n",
       "      <td>1</td>\n",
       "      <td>False</td>\n",
       "    </tr>\n",
       "  </tbody>\n",
       "</table>\n",
       "<p>100 rows × 13 columns</p>\n",
       "</div>"
      ],
      "text/plain": [
       "     #                   Name  Type 1  Type 2  Total   HP  Attack  Defense  \\\n",
       "0    1              Bulbasaur   Grass  Poison    318   45      49       49   \n",
       "1    2                Ivysaur   Grass  Poison    405   60      62       63   \n",
       "2    3               Venusaur   Grass  Poison    525   80      82       83   \n",
       "3    3  VenusaurMega Venusaur   Grass  Poison    625   80     100      123   \n",
       "4    4             Charmander    Fire     NaN    309   39      52       43   \n",
       "..  ..                    ...     ...     ...    ...  ...     ...      ...   \n",
       "95  88                 Grimer  Poison     NaN    325   80      80       50   \n",
       "96  89                    Muk  Poison     NaN    500  105     105       75   \n",
       "97  90               Shellder   Water     NaN    305   30      65      100   \n",
       "98  91               Cloyster   Water     Ice    525   50      95      180   \n",
       "99  92                 Gastly   Ghost  Poison    310   30      35       30   \n",
       "\n",
       "    Sp. Atk  Sp. Def  Speed  Generation  Legendary  \n",
       "0        65       65     45           1      False  \n",
       "1        80       80     60           1      False  \n",
       "2       100      100     80           1      False  \n",
       "3       122      120     80           1      False  \n",
       "4        60       50     65           1      False  \n",
       "..      ...      ...    ...         ...        ...  \n",
       "95       40       50     25           1      False  \n",
       "96       65      100     50           1      False  \n",
       "97       45       25     40           1      False  \n",
       "98       85       45     70           1      False  \n",
       "99      100       35     80           1      False  \n",
       "\n",
       "[100 rows x 13 columns]"
      ]
     },
     "execution_count": 2,
     "metadata": {},
     "output_type": "execute_result"
    }
   ],
   "source": [
    "df=pd.read_csv(\"../data/pokedexg13.csv\")\n",
    "print(df.shape)\n",
    "df.head(100)"
   ]
  },
  {
   "cell_type": "markdown",
   "metadata": {},
   "source": [
    "### A)\n",
    "Write a function `kmeans` that takes in a data frame, and uses a predefined distance to run k-means until convergence.  \n",
    "\n",
    "- Check for convergence by calculating the reconstruction error after each step, and stop when the reconstruction error has changed by no more than `tol` from the previous step.\n",
    "- Choose $k$ rows form the data frame at random to be the initial centroids of the clusters\n",
    "\n",
    "Use the in-class notebook code slide, and/or textbook to guide you."
   ]
  },
  {
   "cell_type": "code",
   "execution_count": 3,
   "metadata": {},
   "outputs": [
    {
     "data": {
      "text/plain": [
       "4.242640687119285"
      ]
     },
     "execution_count": 3,
     "metadata": {},
     "output_type": "execute_result"
    }
   ],
   "source": [
    "euclidean_distance = lambda v1, v2: math.pow((math.pow((v2[0]-v1[0]), 2) + math.pow((v2[1]-v1[1]), 2) + math.pow((v2[2]-v1[2]), 2)), 0.5)\n",
    "euclidean_distance([4,2,1], [1,2,4])"
   ]
  },
  {
   "cell_type": "code",
   "execution_count": 4,
   "metadata": {},
   "outputs": [],
   "source": [
    "#parameterized distance function as we will be using a different variant in pt3.\n",
    "def kmeans(df, distance, k=4, tol=0.05): \n",
    "    \"\"\"\n",
    "    Usage: input \n",
    "        df=data frame, \n",
    "        k=# of clusters\n",
    "        tol=tolerance for L_2 convergance check on centroids\n",
    "    \"\"\"    \n",
    "    recon_change = float(\"inf\")\n",
    "    meanerror = 0\n",
    "    att = df.to_numpy()\n",
    "    #gen init centroids\n",
    "    cent = np.random.choice(len(att), k)\n",
    "    #gets row, hp,att,def per chosen centroid\n",
    "    centroids = [att[x] for x in cent]\n",
    "        \n",
    "    while recon_change > tol:\n",
    "        #distance from centroid\n",
    "        #picking centroids randomly.\n",
    "        #means we run more iterations within loop 2\n",
    "        err = 0\n",
    "        clusters = [[] for x in range(0,k)] #store point per centroid L of L\n",
    "        \n",
    "        prev_error = meanerror\n",
    "        prev_centroids, prev_clusters = centroids, clusters\n",
    "       \n",
    "        for x in range(0, len(att)): #per point - we run O(n*m) iteration\n",
    "            # n = points, m = centroids.\n",
    "            cent, min_distance = None, float(\"inf\")\n",
    "            for y in range(0, len(centroids)): #per centroid -> we calc distance, therefore we\n",
    "                dist = distance(att[x], centroids[y]) #euclidean distance of (xyz)_1, (xyz)_2\n",
    "                if dist < min_distance:\n",
    "                    min_distance = dist\n",
    "                    cent = y \n",
    "            clusters[cent].append(x) \n",
    "        \n",
    "        for x in range(0, len(centroids)): #per centroid\n",
    "            agg_val = np.zeros(3) #use this to aggregate our distance\n",
    "            m = len(clusters[x]) #this is our 'n' -> number of points.\n",
    "            for y in clusters[x]: #y corresponds to one point in centroid[x]\n",
    "                agg_val += att[y]\n",
    "            if m != 0:\n",
    "                centroids[x] = agg_val/m\n",
    "#             else:\n",
    "#                 print(centroids[x]) #we have to get an outlier as our centroid for m == 0\n",
    "            #print(agg_val/m)\n",
    "        #reconstruction error\n",
    "        for x in range(0, len(centroids)): #per centroid\n",
    "            for y in clusters[x]:\n",
    "                new_dist = np.sum(distance(att[y], centroids[x])) #we want to collapse our output 1x3 matrix into 1x1\n",
    "                err += new_dist\n",
    "        n = len(att)\n",
    "        meanerror = err/n\n",
    "        if prev_error != 0:\n",
    "            recon_change = prev_error-meanerror \n",
    "        else:\n",
    "            recon_change = meanerror\n",
    "        #we expect our new error to be less \n",
    "        #so we take previous_error - meanerror(curr mean of error)\n",
    "        #this gives us the change in error per iteration.\n",
    "        #print(f\"recon_change: {recon_change}\")\n",
    "            #we take the difference between the error of the previous and the current.\n",
    "            #we want to stop if our change in mean error is less than the tolerance, as that means\n",
    "            #that we are not generating better clusters.  \n",
    "        if recon_change < 0:\n",
    "            #we need to do 2 things here. Firstly, map indexes of points per cluster to points\n",
    "            #second we want to skip a bad change -> if we have negative tolerance(more likely than < 0.05)\n",
    "            clusters, centroids = prev_clusters, prev_centroids\n",
    "            for x in range(len(clusters)):\n",
    "                for y in range(len(clusters[x])):\n",
    "                    clusters[x][y] = att[clusters[x][y]]\n",
    "        elif recon_change < 0.05:\n",
    "            for x in range(len(clusters)):\n",
    "                for y in range(len(clusters[x])):\n",
    "                    clusters[x][y] = att[clusters[x][y]]\n",
    "                \n",
    "    return centroids, clusters, meanerror"
   ]
  },
  {
   "cell_type": "code",
   "execution_count": 5,
   "metadata": {},
   "outputs": [
    {
     "name": "stdout",
     "output_type": "stream",
     "text": [
      "29.389211893459592\n"
     ]
    }
   ],
   "source": [
    "ce, cl, me = kmeans(df.iloc[:,5:8], euclidean_distance)\n",
    "print(me)"
   ]
  },
  {
   "cell_type": "markdown",
   "metadata": {},
   "source": [
    "### B) \n",
    "\n",
    "Use your function to cluster the generation 1-3 Pokémon into 4 groups based on their (HP, Attack, Defense) tuples.  Make a scatter plot of the resulting assignments on an (Attack, Defense) axis.\n",
    "\n",
    "Run the function a few times: do you get the exact same clusters every time?"
   ]
  },
  {
   "cell_type": "code",
   "execution_count": 6,
   "metadata": {},
   "outputs": [],
   "source": [
    "#def plot_kmeans(cl, ce, me):\n",
    "#clean up lists a bit -> we need np arrays here to do easier\n",
    "def clean_inp(ce, cl):\n",
    "    for x in range(0, len(cl)):\n",
    "        cl[x] = np.array(cl[x])\n",
    "\n",
    "    ce = np.array(ce)\n",
    "    return ce, cl"
   ]
  },
  {
   "cell_type": "code",
   "execution_count": 7,
   "metadata": {},
   "outputs": [
    {
     "data": {
      "image/png": "[encoded data removed]",
      "text/plain": [
       "<Figure size 432x288 with 5 Axes>"
      ]
     },
     "metadata": {
      "needs_background": "light"
     },
     "output_type": "display_data"
    }
   ],
   "source": [
    "vals = df.iloc[:, 5:8] #get hp/att/def\n",
    "iterations = 5\n",
    "colors = ['red', 'green', 'blue', 'purple']\n",
    "fig, ax = plt.subplots(5,1)\n",
    "plt.rcParams[\"figure.figsize\"] = (20,10)\n",
    "\n",
    "for k in range(0,5):\n",
    "    ce, cl, me = kmeans(vals, euclidean_distance)\n",
    "    ce, cl = clean_inp(ce, cl)\n",
    "    \n",
    "    \n",
    "    for x in range(0, len(cl)):\n",
    "        ax[k].scatter(ce[x][1], ce[x][2], color = colors[x], marker=\"D\", s=100)\n",
    "        ax[k].scatter(cl[x][:,1], cl[x][:,2], color = colors[x], marker=\",\", alpha=0.2, s=15)"
   ]
  },
  {
   "cell_type": "markdown",
   "metadata": {},
   "source": [
    "We definitely do not get the same clusters per run. This is due to randomness(with selection of the initial centroids) causing a different level of precision to be reached each iteration. This can be verified by viewing the mean error per kmeans run, we can see different values associated with each iteration, however they are close."
   ]
  },
  {
   "cell_type": "markdown",
   "metadata": {},
   "source": [
    "### C)\n",
    "\n",
    "We need a way to make sure we got the *best* result for  a given value of $k$, and not a particularly unlucky one.  So in practice we usually run kmeans multiple times, and report only the best one.  So re-run your code from part **B** 20 times, and save the assignments/clusters that correspond to the lowest reconstruction error.  Make a scatter plot of the resulting assignments on an (Attack, Defense) axis.\n",
    "\n",
    "*Implementation Idea*: Create a data frame that is 432 rows and 20 columns, fill each column with the results from a \"run\".  Also create a length 20 vectors for the mean reconstruction error of each run."
   ]
  },
  {
   "cell_type": "code",
   "execution_count": 8,
   "metadata": {},
   "outputs": [
    {
     "data": {
      "image/png": "[encoded data removed]",
      "text/plain": [
       "<Figure size 1440x720 with 1 Axes>"
      ]
     },
     "metadata": {
      "needs_background": "light"
     },
     "output_type": "display_data"
    }
   ],
   "source": [
    "best_ce, best_cl, lowest_me = [], [], float(\"inf\")\n",
    "meanerrors = []\n",
    "for k in range(0,20):\n",
    "    ce, cl, me = kmeans(vals, euclidean_distance)\n",
    "    meanerrors.append(me)\n",
    "    if me < lowest_me: #we just save the clusters/centroids of the smallest meanerror\n",
    "        lowest_me = me\n",
    "        best_ce, best_cl = ce, cl\n",
    "    \n",
    "best_ce, best_cl = clean_inp(ce, cl)\n",
    "\n",
    "for x in range(0, len(cl)):\n",
    "    plt.scatter(best_ce[x][1], best_ce[x][2], color = colors[x], marker=\"D\", s=100)\n",
    "    plt.scatter(best_cl[x][:,1], best_cl[x][:,2], color = colors[x], marker=\",\", alpha=0.2, s=15)"
   ]
  },
  {
   "cell_type": "code",
   "execution_count": 9,
   "metadata": {},
   "outputs": [
    {
     "name": "stdout",
     "output_type": "stream",
     "text": [
      "We have a range of: 1.8842886779824966\n"
     ]
    }
   ],
   "source": [
    "print(f\"We have a range of: {max(meanerrors)-lowest_me}\")"
   ]
  },
  {
   "cell_type": "markdown",
   "metadata": {},
   "source": [
    "### D)\n",
    "\n",
    "In parts **A-C** we left $k=4$ as the number of groups.  But we also need to pick the best value of $k$!  Run K-means for $k=1,2,3,\\dots ,10$.\n",
    "- For each value of $k$, run the algorithm at least 10 times with random initialization\n",
    "- For each $k$, select among those runs the one with the *minimum* reconstruction error\n",
    "- Make a plot where $k$ is the $x$-axis and \"best observed reconstruction error\" is the y-axis.\n",
    "\n",
    "Is there a visible \"elbow\" in the plot?  What feels like an appropriate value of $k$, here?\n"
   ]
  },
  {
   "cell_type": "code",
   "execution_count": 10,
   "metadata": {},
   "outputs": [],
   "source": [
    "k_vals = [i for i in range(1,11)] #anyways need for x-vals of plot.\n",
    "lowest_me_per_k = np.zeros(10) #index maps to lowest me per k\n",
    "for k in range(1,11):\n",
    "    lowest_me = float(\"inf\")\n",
    "    for x in range(10):\n",
    "        _, _, me = kmeans(vals, euclidean_distance, k=k)\n",
    "        lowest_me = min(lowest_me, me)\n",
    "    lowest_me_per_k[k-1] = lowest_me"
   ]
  },
  {
   "cell_type": "code",
   "execution_count": 11,
   "metadata": {},
   "outputs": [
    {
     "data": {
      "text/plain": [
       "[<matplotlib.lines.Line2D at 0x1152e4670>]"
      ]
     },
     "execution_count": 11,
     "metadata": {},
     "output_type": "execute_result"
    },
    {
     "data": {
      "image/png": "[encoded data removed]",
      "text/plain": [
       "<Figure size 1440x720 with 1 Axes>"
      ]
     },
     "metadata": {
      "needs_background": "light"
     },
     "output_type": "display_data"
    }
   ],
   "source": [
    "plt.xlabel(\"K-values\")\n",
    "plt.ylabel(\"Mean Reconstruction Error\")\n",
    "plt.title(\"Mean Reconstruction Error vs K-values Elbow Plot\")\n",
    "plt.plot(k_vals, lowest_me_per_k)"
   ]
  },
  {
   "cell_type": "markdown",
   "metadata": {},
   "source": [
    "Is there a visible \"elbow\" in the plot? What feels like an appropriate value of  𝑘 , here?\n",
    "\n",
    "This is a clear elbow plot. We can see a dramatic drop in slope of our line as the k-value here. If we wanted to be very mathematical, perhaps we could find inflection points(i.e where we see the elbow in the plot -> this would be the largest change in slope), however it seems like the eye test will suffice here. We can likely just use 3/4 as our k-value with the given graph. \n"
   ]
  },
  {
   "cell_type": "markdown",
   "metadata": {},
   "source": [
    "***\n",
    "<a/ id='p3'></a>\n",
    "[Back to top](#top)\n",
    "# Problem 3 (K-Means and Distance Measures; 18 pts)\n",
    "\n",
    "If you don't know much about Pokémon, you should know the following:\n",
    "- Mudkip is the cutest\n",
    "- The \"type\" column matters quite a bit\n",
    "\n",
    "... and we didn't use the \"type\" column!  To do so, we can modify k-means, but it requires us also define a *distance* that we can input types into.  A distance that can be calculated using categories?  Sounds like Jaccard similarity!  Suppose we decide to include the Jaccard distance (recall: it's $1-sim$) in addition to Euclidean distance.  The distance between two Pokémon is some combination of the distance between their numeric stats and the distances between their typings, just as in problem **1**!"
   ]
  },
  {
   "cell_type": "code",
   "execution_count": 12,
   "metadata": {},
   "outputs": [],
   "source": [
    "#idk how to find the union of type without redefining kmeans here\n",
    "def kmeans_type(df, distance, k=4, tol=0.05): \n",
    "    \"\"\"\n",
    "    Usage: input \n",
    "        df=data frame, \n",
    "        k=# of clusters\n",
    "        tol=tolerance for L_2 convergance check on centroids\n",
    "    \"\"\"    \n",
    "    recon_change = float(\"inf\")\n",
    "    meanerror = 0\n",
    "    att = df.to_numpy()\n",
    "    #gen init centroids\n",
    "    cent = np.random.choice(len(att), k)\n",
    "    #gets row, hp,att,def per chosen centroid\n",
    "    centroids = [att[x] for x in cent]\n",
    "        \n",
    "    while recon_change > tol:\n",
    "        #distance from centroid\n",
    "        #picking centroids randomly.\n",
    "        #means we run more iterations within loop 2\n",
    "        err = 0\n",
    "        clusters = [[] for x in range(0,k)] #store point per centroid L of L\n",
    "        \n",
    "        prev_error = meanerror\n",
    "        prev_centroids, prev_clusters = centroids, clusters\n",
    "       \n",
    "        for x in range(0, len(att)): #per point - we run O(n*m) iteration\n",
    "            # n = points, m = centroids.\n",
    "            cent, min_distance = None, float(\"inf\")\n",
    "            for y in range(0, len(centroids)): #per centroid -> we calc distance, therefore we\n",
    "                dist = distance(att[x], centroids[y]) #euclidean distance of (xyz)_1, (xyz)_2\n",
    "                if dist < min_distance:\n",
    "                    min_distance = dist\n",
    "                    cent = y \n",
    "            clusters[cent].append(x) \n",
    "        \n",
    "        for x in range(0, len(centroids)): #per centroid\n",
    "            agg_type = set()\n",
    "            agg_val = np.zeros(3) #use this to aggregate our distance\n",
    "            m = len(clusters[x]) #this is our 'n' -> number of points.\n",
    "            for y in clusters[x]: #y corresponds to one point in centroid[x]\n",
    "                types = att[y][0]\n",
    "                for z in range(len(types)):\n",
    "                    if types[z] != \"None\":\n",
    "                        agg_type.add(types[z])\n",
    "                for z in range(0, 3):\n",
    "                    agg_val[z] += att[y][z+1]\n",
    "            if m != 0:\n",
    "                centroids[x] = [list(agg_type)] + list(agg_val/m) #cast as list as we do jacc_sim assuming it is type list\n",
    "        for x in range(0, len(centroids)): #per centroid\n",
    "            for y in clusters[x]:\n",
    "                new_dist = np.sum(distance(att[y], centroids[x])) #we want to collapse our output 1x3 matrix into 1x1\n",
    "                err += new_dist\n",
    "        n = len(att)\n",
    "        meanerror = err/n\n",
    "        if prev_error != 0:\n",
    "            recon_change = prev_error-meanerror \n",
    "        else:\n",
    "            recon_change = meanerror\n",
    "        #we expect our new error to be less \n",
    "        #so we take previous_error - meanerror(curr mean of error)\n",
    "        #this gives us the change in error per iteration.\n",
    "#         print(f\"recon_change: {recon_change}\")\n",
    "#         print(f\"Centroids: {centroids}\")\n",
    "            #we take the difference between the error of the previous and the current.\n",
    "            #we want to stop if our change in mean error is less than the tolerance, as that means\n",
    "            #that we are not generating better clusters.  \n",
    "        if recon_change < 0:\n",
    "            #we need to do 2 things here. Firstly, map indexes of points per cluster to points\n",
    "            #second we want to skip a bad change -> if we have negative tolerance(more likely than < 0.05)\n",
    "            clusters, centroids = prev_clusters, prev_centroids\n",
    "            for x in range(len(clusters)):\n",
    "                for y in range(len(clusters[x])):\n",
    "                    clusters[x][y] = att[clusters[x][y]]\n",
    "        elif recon_change < 0.05:\n",
    "            for x in range(len(clusters)):\n",
    "                for y in range(len(clusters[x])):\n",
    "                    clusters[x][y] = att[clusters[x][y]]\n",
    "                \n",
    "    return centroids, clusters, meanerror"
   ]
  },
  {
   "cell_type": "code",
   "execution_count": 13,
   "metadata": {},
   "outputs": [],
   "source": [
    "df_3 = df.fillna('None')\n",
    "df_3['Type'] = df_3[['Type 1', 'Type 2']].values.tolist() \n",
    "#iterate over our types -> our centroids can have x types associated with them where x = np.unique(types)"
   ]
  },
  {
   "cell_type": "code",
   "execution_count": 14,
   "metadata": {},
   "outputs": [],
   "source": [
    "def euc_distance(pokemon1, pokemon2):\n",
    "    #Do the thing\n",
    "    x = math.pow((pokemon2[1]-pokemon1[1]), 2)\n",
    "    y = math.pow((pokemon2[2]-pokemon1[2]), 2)\n",
    "    z = math.pow((pokemon2[3]-pokemon1[3]), 2)\n",
    "    dist = math.pow((x+y+z), 0.5)\n",
    "    return dist\n",
    "def jacc_distance(pokemon1, pokemon2):\n",
    "    #we find 1 - sim. \n",
    "    #we can represent the sim as AintersectB/AunionB, so we would take all similar types/all types?\n",
    "    t1 = pokemon1[0]\n",
    "    t2 = pokemon2[0]\n",
    "    ts1 = set()\n",
    "    ts2 = set()\n",
    "    for k in range(0, len(t1)):\n",
    "        if t1[k] != \"None\":\n",
    "            ts1.add(t1[k])\n",
    "    for k in range(0, len(t2)):\n",
    "        if t2[k] != \"None\":\n",
    "            ts2.add(t2[k])\n",
    "    sim = len(ts1.intersection(ts2))/len((ts1 | ts2))\n",
    "    return 1-sim"
   ]
  },
  {
   "cell_type": "code",
   "execution_count": 15,
   "metadata": {},
   "outputs": [],
   "source": [
    "def combined_distance(pokemon1, pokemon2):\n",
    "    euc = euc_distance(pokemon1, pokemon2)\n",
    "    jacc = jacc_distance(pokemon1, pokemon2)\n",
    "    return euc + jacc"
   ]
  },
  {
   "cell_type": "code",
   "execution_count": 16,
   "metadata": {},
   "outputs": [
    {
     "data": {
      "text/plain": [
       "(1.0,\n",
       " Type       [Grass, Poison]\n",
       " HP                      60\n",
       " Attack                  62\n",
       " Defense                 63\n",
       " Name: 1, dtype: object,\n",
       " Type       [Fire, Dragon]\n",
       " HP                     78\n",
       " Attack                130\n",
       " Defense               111\n",
       " Name: 7, dtype: object)"
      ]
     },
     "execution_count": 16,
     "metadata": {},
     "output_type": "execute_result"
    }
   ],
   "source": [
    "pokemon1 = df_3.iloc[1, [13, 5,6,7]]\n",
    "pokemon2 = df_3.iloc[7, [13, 5,6,7]]\n",
    "jacc_distance(pokemon1, pokemon2), pokemon1, pokemon2\n",
    "#intended behavior as we see 5.7xx +| 1"
   ]
  },
  {
   "cell_type": "markdown",
   "metadata": {},
   "source": [
    "Using $k=4$ and at least 10 runs, cluster the Pokémon data set where the distance between two Pokémon is the *sum* of their Euclidean ($L_2$) and Jaccard distances.  Represent clusters by their centroids for numeric stats, and by the union of all of their typings for type.  Make a scatter plot of the resulting assignments on an (Attack, Defense) axis.\n",
    "\n",
    "Does it look like typing is mattering?"
   ]
  },
  {
   "cell_type": "code",
   "execution_count": 17,
   "metadata": {},
   "outputs": [
    {
     "name": "stdout",
     "output_type": "stream",
     "text": [
      "30.362883824932858\n",
      "30.564465112718274\n",
      "30.603818636685382\n",
      "30.32666525108618\n",
      "31.262797483332513\n",
      "31.4807469382034\n",
      "30.2484554153335\n",
      "31.599513679346817\n",
      "30.932081233378682\n",
      "32.946056172400574\n"
     ]
    }
   ],
   "source": [
    "iterations = 10\n",
    "vals = df_3.iloc[:, [13,5,6,7]]\n",
    "cent, clus, least_me = None, None, float(\"inf\")\n",
    "for k in range(0,iterations):\n",
    "    ce, cl, me = kmeans_type(vals, combined_distance)\n",
    "    \n",
    "    if me < least_me:\n",
    "        cent, clus, least_me = ce, cl, me    \n",
    "    print(me)"
   ]
  },
  {
   "cell_type": "code",
   "execution_count": 18,
   "metadata": {},
   "outputs": [
    {
     "data": {
      "text/plain": [
       "Text(0, 0.5, 'Defense')"
      ]
     },
     "execution_count": 18,
     "metadata": {},
     "output_type": "execute_result"
    },
    {
     "data": {
      "image/png": "[encoded data removed]",
      "text/plain": [
       "<Figure size 1440x720 with 1 Axes>"
      ]
     },
     "metadata": {
      "needs_background": "light"
     },
     "output_type": "display_data"
    }
   ],
   "source": [
    "colors = ['red', 'green', 'blue', 'purple']\n",
    "plt.rcParams[\"figure.figsize\"] = (20,10)\n",
    "\n",
    "for x in range(0, len(cent)):\n",
    "    plt.scatter(cent[x][2], cent[x][3], color = colors[x], marker=\"D\", s=100)\n",
    "    for y in range(0, len(clus[x])):\n",
    "        plt.scatter(clus[x][y][2], clus[x][y][3], color = colors[x], marker=\",\", alpha=0.2, s=15)\n",
    "plt.title(\"Best Kmeans for Type without additional weighting\")\n",
    "plt.xlabel(\"Attack\")\n",
    "plt.ylabel(\"Defense\")"
   ]
  },
  {
   "cell_type": "markdown",
   "metadata": {},
   "source": [
    "This plot looks almost identical to the ones above. Typing certainly doesn't matter - we are appending values between 0-1 -> we have euclidean distances that are 100x this magnitude."
   ]
  },
  {
   "cell_type": "markdown",
   "metadata": {},
   "source": [
    "*Hint:* You can and may want to reformat the data a little, since the two \"Type\" columns don't naturally lend themselves well to being put into a \"set\" for Jaccard computation."
   ]
  },
  {
   "cell_type": "markdown",
   "metadata": {},
   "source": [
    "### B) \n",
    "\n",
    "Your answer in part **3A** should be \"certainly not!\"  Since Jaccard distances all live in $[0,1]$ and each numerical statistic can range from $[1,256]$, the distances between those stats will totally dominate Jaccard.   But that's no problem!  We can either rescale the *data*, where we shrink stats down to a $[0,1]$ or similar scale, or we can rescale our *distance* to weight some features/columns more than others.  \n",
    "\n",
    "Suppose we decide we want to \"weight\" Jaccard distance $d_J$ as 90% of the calculation and keep the Euclidean stats-distance $d_E$ between Pokémon as the remaining 10%.  We could define:\n",
    "\n",
    "$$d(x,y)=.9 d_J(x,y) + .1 d_E(x,y)$$\n",
    "\n",
    "as our distance!"
   ]
  },
  {
   "cell_type": "code",
   "execution_count": 19,
   "metadata": {},
   "outputs": [],
   "source": [
    "def combined_dist(pokemon1, pokemon2, a): #a is the \"percentage\" that we'll weight Jaccard\n",
    "    dist=100*(1-a)*euc_distance(pokemon1, pokemon2)+100*a*jacc_distance(pokemon1, pokemon2)\n",
    "    return dist"
   ]
  },
  {
   "cell_type": "code",
   "execution_count": 20,
   "metadata": {},
   "outputs": [
    {
     "data": {
      "text/plain": [
       "(142.07933771208758,\n",
       " 86.15867542417507,\n",
       " Type       [Grass, Poison]\n",
       " HP                      60\n",
       " Attack                  62\n",
       " Defense                 63\n",
       " Name: 1, dtype: object,\n",
       " Type       [Fire, Dragon]\n",
       " HP                     78\n",
       " Attack                130\n",
       " Defense               111\n",
       " Name: 7, dtype: object)"
      ]
     },
     "execution_count": 20,
     "metadata": {},
     "output_type": "execute_result"
    }
   ],
   "source": [
    "pokemon1 = df_3.iloc[1, [13, 5,6,7]]\n",
    "pokemon2 = df_3.iloc[7, [13, 5,6,7]]\n",
    "combined_dist(pokemon1, pokemon2, 0.995), combined_distance(pokemon1, pokemon2), pokemon1, pokemon2\n"
   ]
  },
  {
   "cell_type": "code",
   "execution_count": 21,
   "metadata": {},
   "outputs": [],
   "source": [
    "#just need to add a to our distance measure here.\n",
    "def kmeans_type_a(df, distance, a, k=4, tol=0.05): \n",
    "    \"\"\"\n",
    "    Usage: input \n",
    "        df=data frame, \n",
    "        k=# of clusters\n",
    "        tol=tolerance for L_2 convergance check on centroids\n",
    "    \"\"\"    \n",
    "    recon_change = float(\"inf\")\n",
    "    meanerror = 0\n",
    "    att = df.to_numpy()\n",
    "    #gen init centroids\n",
    "    cent = np.random.choice(len(att), k)\n",
    "    #gets row, hp,att,def per chosen centroid\n",
    "    centroids = [att[x] for x in cent]\n",
    "        \n",
    "    while recon_change > tol:\n",
    "        #distance from centroid\n",
    "        #picking centroids randomly.\n",
    "        #means we run more iterations within loop 2\n",
    "        err = 0\n",
    "        clusters = [[] for x in range(0,k)] #store point per centroid L of L\n",
    "        \n",
    "        prev_error = meanerror\n",
    "        prev_centroids, prev_clusters = centroids, clusters\n",
    "       \n",
    "        for x in range(0, len(att)): #per point - we run O(n*m) iteration\n",
    "            # n = points, m = centroids.\n",
    "            cent, min_distance = None, float(\"inf\")\n",
    "            for y in range(0, len(centroids)): #per centroid -> we calc distance, therefore we\n",
    "                dist = distance(att[x], centroids[y], a) #euclidean distance of (xyz)_1, (xyz)_2\n",
    "                if dist < min_distance:\n",
    "                    min_distance = dist\n",
    "                    cent = y \n",
    "            clusters[cent].append(x) \n",
    "        \n",
    "        for x in range(0, len(centroids)): #per centroid\n",
    "            agg_type = set()\n",
    "            agg_val = np.zeros(3) #use this to aggregate our distance\n",
    "            m = len(clusters[x]) #this is our 'n' -> number of points.\n",
    "            for y in clusters[x]: #y corresponds to one point in centroid[x]\n",
    "                types = att[y][0]\n",
    "                for z in range(len(types)):\n",
    "                    if types[z] != \"None\":\n",
    "                        agg_type.add(types[z])\n",
    "                for z in range(0, 3):\n",
    "                    agg_val[z] += att[y][z+1]\n",
    "            if m != 0:\n",
    "                centroids[x] = [list(agg_type)] + list(agg_val/m) #cast as list as we do jacc_sim assuming it is type list\n",
    "        for x in range(0, len(centroids)): #per centroid\n",
    "            for y in clusters[x]:\n",
    "                new_dist = np.sum(distance(att[y], centroids[x], a)) #we want to collapse our output 1x3 matrix into 1x1\n",
    "                err += new_dist\n",
    "        n = len(att)\n",
    "        meanerror = err/n\n",
    "        if prev_error != 0:\n",
    "            recon_change = prev_error-meanerror \n",
    "        else:\n",
    "            recon_change = meanerror\n",
    "        #we expect our new error to be less \n",
    "        #so we take previous_error - meanerror(curr mean of error)\n",
    "        #this gives us the change in error per iteration.\n",
    "#         print(f\"recon_change: {recon_change}\")\n",
    "#         print(f\"Centroids: {centroids}\")\n",
    "            #we take the difference between the error of the previous and the current.\n",
    "            #we want to stop if our change in mean error is less than the tolerance, as that means\n",
    "            #that we are not generating better clusters.  \n",
    "        if recon_change < 0:\n",
    "            #we need to do 2 things here. Firstly, map indexes of points per cluster to points\n",
    "            #second we want to skip a bad change -> if we have negative tolerance(more likely than < 0.05)\n",
    "            clusters, centroids = prev_clusters, prev_centroids\n",
    "            for x in range(len(clusters)):\n",
    "                for y in range(len(clusters[x])):\n",
    "                    clusters[x][y] = att[clusters[x][y]]\n",
    "        elif recon_change < 0.05:\n",
    "            for x in range(len(clusters)):\n",
    "                for y in range(len(clusters[x])):\n",
    "                    clusters[x][y] = att[clusters[x][y]]\n",
    "                \n",
    "    return centroids, clusters, meanerror"
   ]
  },
  {
   "cell_type": "markdown",
   "metadata": {},
   "source": [
    "Finally, using $k=4$ and at least 10 runs, cluster the Pokémon data set where the Jaccard distance between Pokemon is given a 99.5% of the weight of the distance function.\n",
    "\n",
    "Make a scatter plot of the resulting assignments on an (Attack, Defense) axis."
   ]
  },
  {
   "cell_type": "code",
   "execution_count": 22,
   "metadata": {},
   "outputs": [],
   "source": [
    "iterations = 10\n",
    "vals = df_3.iloc[:, [13,5,6,7]]\n",
    "cent, clus, least_me = None, None, float(\"inf\")\n",
    "\n",
    "for k in range(0,iterations):\n",
    "    ce, cl, me = kmeans_type_a(vals, combined_dist, a=0.995)\n",
    "    \n",
    "    if me < least_me:\n",
    "        cent, clus, least_me = ce, cl, me\n",
    "    "
   ]
  },
  {
   "cell_type": "code",
   "execution_count": 23,
   "metadata": {},
   "outputs": [
    {
     "data": {
      "text/plain": [
       "105.40430806583744"
      ]
     },
     "execution_count": 23,
     "metadata": {},
     "output_type": "execute_result"
    }
   ],
   "source": [
    "least_me"
   ]
  },
  {
   "cell_type": "code",
   "execution_count": 24,
   "metadata": {},
   "outputs": [
    {
     "data": {
      "text/plain": [
       "Text(0, 0.5, 'Defense')"
      ]
     },
     "execution_count": 24,
     "metadata": {},
     "output_type": "execute_result"
    },
    {
     "data": {
      "image/png": "[encoded data removed]",
      "text/plain": [
       "<Figure size 1440x720 with 1 Axes>"
      ]
     },
     "metadata": {
      "needs_background": "light"
     },
     "output_type": "display_data"
    }
   ],
   "source": [
    "colors = ['red', 'green', 'blue', 'purple']\n",
    "plt.rcParams[\"figure.figsize\"] = (20,10)\n",
    "\n",
    "for x in range(0, len(cent)):\n",
    "    plt.scatter(cent[x][2], cent[x][3], color = colors[x], marker=\"D\", s=100)\n",
    "    for y in range(0, len(clus[x])):\n",
    "        plt.scatter(clus[x][y][2], clus[x][y][3], color = colors[x], marker=\",\", alpha=0.2, s=15)\n",
    "plt.title(\"Best Kmeans for Type with additional weighting\")\n",
    "plt.xlabel(\"Attack\")\n",
    "plt.ylabel(\"Defense\")"
   ]
  },
  {
   "cell_type": "code",
   "execution_count": 25,
   "metadata": {},
   "outputs": [
    {
     "data": {
      "image/png": "[encoded data removed]",
      "text/plain": [
       "<Figure size 1440x720 with 10 Axes>"
      ]
     },
     "metadata": {
      "needs_background": "light"
     },
     "output_type": "display_data"
    }
   ],
   "source": [
    "colors = ['red', 'green', 'blue', 'purple']\n",
    "fig, ax = plt.subplots(10, 1)\n",
    "plt.rcParams[\"figure.figsize\"] = (200,100)\n",
    "iterations = 10\n",
    "vals = df_3.iloc[:, [13,5,6,7]]\n",
    "meanerror = []\n",
    "for k in range(0,iterations):\n",
    "    ce, cl, me = kmeans_type_a(vals, combined_dist, a=0.995)\n",
    "    meanerror.append(me)\n",
    "    \n",
    "    for x in range(0, len(cent)):\n",
    "        ax[k].scatter(cent[x][2], cent[x][3], color = colors[x], marker=\"D\", s=100)\n",
    "        for y in range(0, len(clus[x])):\n",
    "            ax[k].scatter(clus[x][y][2], clus[x][y][3], color = colors[x], marker=\",\", alpha=0.2, s=15)"
   ]
  },
  {
   "cell_type": "code",
   "execution_count": 26,
   "metadata": {},
   "outputs": [
    {
     "data": {
      "text/plain": [
       "[105.99614434810188,\n",
       " 105.8319259622148,\n",
       " 105.98613926881379,\n",
       " 105.97930507393684,\n",
       " 105.63000150337736,\n",
       " 106.02743075565047,\n",
       " 105.64908513868158,\n",
       " 105.62072724827921,\n",
       " 105.6135185177267,\n",
       " 106.05347021518084]"
      ]
     },
     "execution_count": 26,
     "metadata": {},
     "output_type": "execute_result"
    }
   ],
   "source": [
    "meanerror"
   ]
  },
  {
   "cell_type": "markdown",
   "metadata": {},
   "source": [
    "### C)\n",
    "\n",
    "Glance over the resulting clusterings in problems 2 and 3.  How would you improve on this method?  Does it appear to be clustering in ways that make sense to you?  If you want a few places to look, consider asking:\n",
    "\n",
    "- Are \"legendary\" Pokémon often clustered together?\n",
    "- Are \"starter\" Pokémon often clustered together? (These are \\# 1,4,7, 151,155,158,252,255,258)\n",
    "- Should we have used more stats than just (HP, Attack, Defense)?\n",
    "\n",
    "(Nothing specific is looked for here, but show that you explore the data and attempt to sanity check your clusters)."
   ]
  },
  {
   "cell_type": "markdown",
   "metadata": {},
   "source": [
    "Few questions that I had that I wanted to answer. \n",
    "\n",
    "Namely, what values of a would lead to the lowest mean error? -> Found out that a scales the meanerror essentially, so meanerror is a bad indicator of the best a value i.e what a value provides the best clusters. We cannot answer this question by looking at meanerror.\n",
    "\n",
    "I also took a look at the starter/legendary groupings."
   ]
  },
  {
   "cell_type": "code",
   "execution_count": 34,
   "metadata": {},
   "outputs": [
    {
     "name": "stdout",
     "output_type": "stream",
     "text": [
      "[381.73348657 387.09587128 384.72927664 384.83470365 392.7194613\n",
      " 379.16008097 396.91711683 375.318411   385.05826017 396.91711683]\n",
      "[351.29557819 348.15556284 347.71122008 345.25752402 344.47437954\n",
      " 353.87774766 345.42152859 351.26996896 348.54713831 353.30650744]\n",
      "[314.32794543 315.3802218  313.95732438 312.95710941 313.11561436\n",
      " 312.66658384 320.44380419 323.4360712  328.33170762 313.11777279]\n",
      "[282.70116777 281.29018294 285.21441865 281.81281308 287.98834681\n",
      " 282.2666299  286.04780951 282.67712666 281.7724938  282.3545514 ]\n",
      "[252.38828882 251.54936653 250.89256513 252.51045484 251.46246604\n",
      " 255.79743857 256.00220499 252.48108421 251.21218766 256.6629371 ]\n",
      "[223.38336449 219.32438254 228.51742312 219.41156292 223.26068429\n",
      " 219.68526811 219.28180347 221.97565627 223.38336449 223.34078236]\n",
      "[188.49372678 188.63748263 189.20432306 190.35905309 188.37106577\n",
      " 188.8500255  190.49665426 190.52572161 188.44870594 192.09270562]\n",
      "[157.32042475 158.69255106 157.03410155 156.90804453 158.75926816\n",
      " 161.69183624 160.83965047 156.96425918 156.83213884 157.65794213]\n",
      "[125.9654919  125.82084796 125.93803897 125.74360872 126.27132482\n",
      " 125.69982108 126.429492   126.03592935 125.67418311 125.46992856]\n",
      "[93.37052161 93.7858181  93.27791074 91.98879537 92.76265852 90.21481678\n",
      " 93.70018525 93.2335314  91.68746863 91.1257743 ]\n"
     ]
    }
   ],
   "source": [
    "a = np.linspace(0.9, 0.999, num=10)\n",
    "iterations = 10\n",
    "#we'll do 10 iterations over the 10 different a values with k=4. \n",
    "#We'll pick the best a value with the lowest mean me -> its possible for the kmeans algo to get very lucky. \n",
    "#We can combat this by reducing our randomness by aggregating.\n",
    "\n",
    "lowest_me, best_a = float(\"inf\"), None\n",
    "best_ce, best_cl = [], []\n",
    "for x in a:\n",
    "    meanerror = np.zeros(10)\n",
    "    cent, clus = [], []\n",
    "    for k in range(0, iterations):\n",
    "        ce, cl, me = kmeans_type_a(vals, combined_dist, a=x) \n",
    "        #note, we can take centroid/cluster info for graphing, but isnt the point of this experiment so going to ignore\n",
    "        meanerror[k] = me\n",
    "        cent.append(ce)\n",
    "        clus.append(cl\n",
    "                   )\n",
    "    print(meanerror)\n",
    "    mean_me = sum(meanerror)/iterations\n",
    "        \n",
    "    if mean_me < lowest_me:\n",
    "        lowest_me,best_a = mean_me, x\n",
    "        best_ce, best_cl = cent, clus\n",
    "        \n",
    "    "
   ]
  },
  {
   "cell_type": "code",
   "execution_count": 35,
   "metadata": {},
   "outputs": [
    {
     "data": {
      "text/plain": [
       "92.51474806889405"
      ]
     },
     "execution_count": 35,
     "metadata": {},
     "output_type": "execute_result"
    }
   ],
   "source": [
    "lowest_me"
   ]
  },
  {
   "cell_type": "markdown",
   "metadata": {},
   "source": [
    "This does not work. We cannot measure the objectively best a value using the meanerror. The meanerror here will just provide whatever value of a minimizes the combined_distance function, which happens to be whatever maximizes a -> will minimize the euclidean distance, which is the function that returns the larger of the two distance values. This almost feels like a flaw within my implementation of error, or perhaps with the loss function we are using. As such, we would need to define a new measure to analyze which a value is best. It feels like analyzing which pokemon are clustered together is the best way to see what value of a for kmeans is working best i.e see what we expect to happen -> check if it is happening(are like pokemon being grouped)\n"
   ]
  },
  {
   "cell_type": "code",
   "execution_count": 28,
   "metadata": {},
   "outputs": [],
   "source": [
    "#going to modify kmeans to return cluster indices instead for easier parsing of legendaries/starters/etc.\n",
    "def kmeans_type_a(df, distance, a, k=4, tol=0.05): \n",
    "    \"\"\"\n",
    "    Usage: input \n",
    "        df=data frame, \n",
    "        k=# of clusters\n",
    "        tol=tolerance for L_2 convergance check on centroids\n",
    "    \"\"\"    \n",
    "    recon_change = float(\"inf\")\n",
    "    meanerror = 0\n",
    "    att = df.to_numpy()\n",
    "    #gen init centroids\n",
    "    cent = np.random.choice(len(att), k)\n",
    "    #gets row, hp,att,def per chosen centroid\n",
    "    centroids = [att[x] for x in cent]\n",
    "        \n",
    "    while recon_change > tol:\n",
    "        #distance from centroid\n",
    "        #picking centroids randomly.\n",
    "        #means we run more iterations within loop 2\n",
    "        err = 0\n",
    "        clusters = [[] for x in range(0,k)] #store point per centroid L of L\n",
    "        \n",
    "        prev_error = meanerror\n",
    "        prev_centroids, prev_clusters = centroids, clusters\n",
    "       \n",
    "        for x in range(0, len(att)): #per point - we run O(n*m) iteration\n",
    "            # n = points, m = centroids.\n",
    "            cent, min_distance = None, float(\"inf\")\n",
    "            for y in range(0, len(centroids)): #per centroid -> we calc distance, therefore we\n",
    "                dist = distance(att[x], centroids[y], a) #euclidean distance of (xyz)_1, (xyz)_2\n",
    "                if dist < min_distance:\n",
    "                    min_distance = dist\n",
    "                    cent = y \n",
    "            clusters[cent].append(x) \n",
    "        \n",
    "        for x in range(0, len(centroids)): #per centroid\n",
    "            agg_type = set()\n",
    "            agg_val = np.zeros(3) #use this to aggregate our distance\n",
    "            m = len(clusters[x]) #this is our 'n' -> number of points.\n",
    "            for y in clusters[x]: #y corresponds to one point in centroid[x]\n",
    "                types = att[y][0]\n",
    "                for z in range(len(types)):\n",
    "                    if types[z] != \"None\":\n",
    "                        agg_type.add(types[z])\n",
    "                for z in range(0, 3):\n",
    "                    agg_val[z] += att[y][z+1]\n",
    "            if m != 0:\n",
    "                centroids[x] = [list(agg_type)] + list(agg_val/m) #cast as list as we do jacc_sim assuming it is type list\n",
    "        for x in range(0, len(centroids)): #per centroid\n",
    "            for y in clusters[x]:\n",
    "                new_dist = np.sum(distance(att[y], centroids[x], a)) #we want to collapse our output 1x3 matrix into 1x1\n",
    "                err += new_dist\n",
    "        n = len(att)\n",
    "        meanerror = err/n\n",
    "        if prev_error != 0:\n",
    "            recon_change = prev_error-meanerror \n",
    "        else:\n",
    "            recon_change = meanerror\n",
    "        #we expect our new error to be less \n",
    "        #so we take previous_error - meanerror(curr mean of error)\n",
    "        #this gives us the change in error per iteration.\n",
    "#         print(f\"recon_change: {recon_change}\")\n",
    "#         print(f\"Centroids: {centroids}\")\n",
    "            #we take the difference between the error of the previous and the current.\n",
    "            #we want to stop if our change in mean error is less than the tolerance, as that means\n",
    "            #that we are not generating better clusters.\n",
    "                \n",
    "    return centroids, clusters, meanerror"
   ]
  },
  {
   "cell_type": "code",
   "execution_count": 29,
   "metadata": {},
   "outputs": [],
   "source": [
    "vals = df_3.iloc[:, [13,5,6,7]]\n",
    "ce, cl, me = kmeans_type_a(vals, combined_dist, a=0.5)"
   ]
  },
  {
   "cell_type": "code",
   "execution_count": 30,
   "metadata": {},
   "outputs": [],
   "source": [
    "s = df_3[df_3['#'].isin([1,4,7, 151,155,158,252,255,258])].index.to_numpy()\n",
    "s_clus = []\n",
    "for x in range(len(cl)):\n",
    "    for y in range(len(cl[x])):\n",
    "        if cl[x][y] in s:\n",
    "            s_clus.append([x,cl[x][y]])"
   ]
  },
  {
   "cell_type": "code",
   "execution_count": 31,
   "metadata": {},
   "outputs": [
    {
     "data": {
      "text/plain": [
       "([[1, 165],\n",
       "  [2, 0],\n",
       "  [2, 4],\n",
       "  [2, 9],\n",
       "  [2, 169],\n",
       "  [2, 172],\n",
       "  [2, 272],\n",
       "  [2, 276],\n",
       "  [2, 280]],\n",
       " #                         151\n",
       " Name                      Mew\n",
       " Type 1                Psychic\n",
       " Type 2                   None\n",
       " Total                     600\n",
       " HP                        100\n",
       " Attack                    100\n",
       " Defense                   100\n",
       " Sp. Atk                   100\n",
       " Sp. Def                   100\n",
       " Speed                     100\n",
       " Generation                  1\n",
       " Legendary               False\n",
       " Type          [Psychic, None]\n",
       " Name: 165, dtype: object)"
      ]
     },
     "execution_count": 31,
     "metadata": {},
     "output_type": "execute_result"
    }
   ],
   "source": [
    "s_clus,df_3.iloc[165]\n",
    "#We can see that the starters are clustered together more than often. \n",
    "#We do not see them all clustered together, however this can be attributed to the stats of 165 -> mew has much higher \n",
    "#overall stats."
   ]
  },
  {
   "cell_type": "code",
   "execution_count": 32,
   "metadata": {},
   "outputs": [],
   "source": [
    "# s = df_3[df['Legendary'] == True].index.to_numpy()\n",
    "# v = []\n",
    "# for x in range(len(cl)):\n",
    "#     for y in range(len(cl[x])):\n",
    "#         if cl[x][y] in s:\n",
    "#             v.append([x,cl[x][y]])\n",
    "# df_3[df['Legendary'] == True]"
   ]
  },
  {
   "cell_type": "code",
   "execution_count": 33,
   "metadata": {},
   "outputs": [],
   "source": [
    "# v"
   ]
  },
  {
   "cell_type": "markdown",
   "metadata": {},
   "source": [
    "We see that legendaries are grouped more often than not. We can attribute some of the grouping disparity to whatever specific attribute the legendary has maximized. A pokemon like Deoxys attack form will have higher attack than defense form. As such we can see that it makes logical sense that they are grouped in differing clusters. We can further rationalize this as the largest value tends to maximize euclidean distance, therefore these points would be pushed towards clusters that have a similar feature maximized. As such, we would expect Deoxys attack form(for instance.) to be placed in a cluster with overall higher attack. \n",
    "\n",
    "Note: Had to cut these lines out -> was killing my kernel for some reason. "
   ]
  },
  {
   "cell_type": "code",
   "execution_count": null,
   "metadata": {},
   "outputs": [],
   "source": []
  }
 ],
 "metadata": {
  "kernelspec": {
   "display_name": "Python 3",
   "language": "python",
   "name": "python3"
  },
  "language_info": {
   "codemirror_mode": {
    "name": "ipython",
    "version": 3
   },
   "file_extension": ".py",
   "mimetype": "text/x-python",
   "name": "python",
   "nbconvert_exporter": "python",
   "pygments_lexer": "ipython3",
   "version": "3.8.5"
  }
 },
 "nbformat": 4,
 "nbformat_minor": 2
}
